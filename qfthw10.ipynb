{
 "cells": [
  {
   "cell_type": "code",
   "execution_count": 1,
   "metadata": {},
   "outputs": [],
   "source": [
    "import numpy as np"
   ]
  },
  {
   "cell_type": "code",
   "execution_count": 2,
   "metadata": {},
   "outputs": [],
   "source": [
    "import sympy as sp"
   ]
  },
  {
   "cell_type": "code",
   "execution_count": 3,
   "metadata": {},
   "outputs": [
    {
     "data": {
      "text/latex": [
       "$\\displaystyle \\left[\\begin{matrix}1.0 e^{0.5 i \\theta} & 0\\\\0 & 1.0 e^{- 0.5 i \\theta}\\end{matrix}\\right]$"
      ],
      "text/plain": [
       "Matrix([\n",
       "[1.0*exp(0.5*I*theta),                     0],\n",
       "[                   0, 1.0*exp(-0.5*I*theta)]])"
      ]
     },
     "execution_count": 3,
     "metadata": {},
     "output_type": "execute_result"
    }
   ],
   "source": [
    "theta = sp.symbols('theta', real=True)\n",
    "U = sp.exp((1j/2) * theta * sp.Matrix([[1, 0], [0, -1]]))\n",
    "U\n",
    "#U.adjoint()"
   ]
  },
  {
   "cell_type": "code",
   "execution_count": 4,
   "metadata": {},
   "outputs": [],
   "source": [
    "#pauli matrices\n",
    "sigma_1 = sp.Matrix([[0, 1], [1, 0]])\n",
    "sigma_2 = sp.Matrix([[0, -sp.I], [sp.I, 0]])\n",
    "sigma_3 = sp.Matrix([[1, 0], [0, -1]])"
   ]
  },
  {
   "cell_type": "code",
   "execution_count": 5,
   "metadata": {},
   "outputs": [],
   "source": [
    "#list of pauli matrices but make the index 1 based\n",
    "sigma = [None, sigma_1, sigma_2, sigma_3]"
   ]
  },
  {
   "cell_type": "code",
   "execution_count": 6,
   "metadata": {},
   "outputs": [
    {
     "data": {
      "text/latex": [
       "$\\displaystyle \\left[\\begin{matrix}\\cos{\\left(\\theta \\right)} & \\sin{\\left(\\theta \\right)} & 0\\\\- \\sin{\\left(\\theta \\right)} & \\cos{\\left(\\theta \\right)} & 0\\\\0 & 0 & 1\\end{matrix}\\right]$"
      ],
      "text/plain": [
       "Matrix([\n",
       "[ cos(theta), sin(theta), 0],\n",
       "[-sin(theta), cos(theta), 0],\n",
       "[          0,          0, 1]])"
      ]
     },
     "execution_count": 6,
     "metadata": {},
     "output_type": "execute_result"
    }
   ],
   "source": [
    "R = sp.Matrix([[sp.cos(theta), sp.sin(theta), 0],\n",
    "               [-sp.sin(theta), sp.cos(theta), 0],\n",
    "               [0, 0, 1]])\n",
    "R\n"
   ]
  },
  {
   "cell_type": "code",
   "execution_count": 7,
   "metadata": {},
   "outputs": [
    {
     "data": {
      "text/latex": [
       "$\\displaystyle \\left[\\begin{matrix}1.0 e^{- 0.5 i \\theta} & 0\\\\0 & 1.0 e^{0.5 i \\theta}\\end{matrix}\\right]$"
      ],
      "text/plain": [
       "Matrix([\n",
       "[1.0*exp(-0.5*I*theta),                    0],\n",
       "[                    0, 1.0*exp(0.5*I*theta)]])"
      ]
     },
     "execution_count": 7,
     "metadata": {},
     "output_type": "execute_result"
    }
   ],
   "source": [
    "U.H"
   ]
  },
  {
   "cell_type": "code",
   "execution_count": 8,
   "metadata": {},
   "outputs": [],
   "source": [
    "# lhs = sp.simplify(sp.trace(sigma[2] *U *sigma[2] * U.H ))\n",
    "# rhs = R[1,1]\n",
    "# print(lhs/2)\n",
    "# print(rhs)\n",
    "# lhs/2 == rhs\n",
    "# print(sp.simplify(lhs/2) == rhs)"
   ]
  },
  {
   "cell_type": "code",
   "execution_count": 11,
   "metadata": {},
   "outputs": [
    {
     "data": {
      "text/latex": [
       "$\\displaystyle \\left[\\begin{matrix}1.0 e^{- 1.0 i \\theta} & 0\\\\0 & 1.0 e^{1.0 i \\theta}\\end{matrix}\\right]$"
      ],
      "text/plain": [
       "Matrix([\n",
       "[1.0*exp(-1.0*I*theta),                    0],\n",
       "[                    0, 1.0*exp(1.0*I*theta)]])"
      ]
     },
     "metadata": {},
     "output_type": "display_data"
    },
    {
     "data": {
      "text/latex": [
       "$\\displaystyle \\cos{\\left(\\theta \\right)}$"
      ],
      "text/plain": [
       "cos(theta)"
      ]
     },
     "metadata": {},
     "output_type": "display_data"
    },
    {
     "name": "stdout",
     "output_type": "stream",
     "text": [
      "For i = 1, j = 1, LHS = 1.0*cos(1.0*theta), and RHS = cos(theta)\n"
     ]
    },
    {
     "data": {
      "text/latex": [
       "$\\displaystyle \\left[\\begin{matrix}1.0 i e^{- 1.0 i \\theta} & 0\\\\0 & - 1.0 i e^{1.0 i \\theta}\\end{matrix}\\right]$"
      ],
      "text/plain": [
       "Matrix([\n",
       "[1.0*I*exp(-1.0*I*theta),                       0],\n",
       "[                      0, -1.0*I*exp(1.0*I*theta)]])"
      ]
     },
     "metadata": {},
     "output_type": "display_data"
    },
    {
     "data": {
      "text/latex": [
       "$\\displaystyle \\sin{\\left(\\theta \\right)}$"
      ],
      "text/plain": [
       "sin(theta)"
      ]
     },
     "metadata": {},
     "output_type": "display_data"
    },
    {
     "name": "stdout",
     "output_type": "stream",
     "text": [
      "For i = 1, j = 2, LHS = 1.0*sin(1.0*theta), and RHS = sin(theta)\n"
     ]
    },
    {
     "data": {
      "text/latex": [
       "$\\displaystyle \\left[\\begin{matrix}0 & -1.0\\\\1.0 & 0\\end{matrix}\\right]$"
      ],
      "text/plain": [
       "Matrix([\n",
       "[  0, -1.0],\n",
       "[1.0,    0]])"
      ]
     },
     "metadata": {},
     "output_type": "display_data"
    },
    {
     "data": {
      "text/latex": [
       "$\\displaystyle 0$"
      ],
      "text/plain": [
       "0"
      ]
     },
     "metadata": {},
     "output_type": "display_data"
    },
    {
     "name": "stdout",
     "output_type": "stream",
     "text": [
      "For i = 1, j = 3, LHS = 0, and RHS = 0\n"
     ]
    },
    {
     "data": {
      "text/latex": [
       "$\\displaystyle \\left[\\begin{matrix}- 1.0 i e^{- 1.0 i \\theta} & 0\\\\0 & 1.0 i e^{1.0 i \\theta}\\end{matrix}\\right]$"
      ],
      "text/plain": [
       "Matrix([\n",
       "[-1.0*I*exp(-1.0*I*theta),                      0],\n",
       "[                       0, 1.0*I*exp(1.0*I*theta)]])"
      ]
     },
     "metadata": {},
     "output_type": "display_data"
    },
    {
     "data": {
      "text/latex": [
       "$\\displaystyle - \\sin{\\left(\\theta \\right)}$"
      ],
      "text/plain": [
       "-sin(theta)"
      ]
     },
     "metadata": {},
     "output_type": "display_data"
    },
    {
     "name": "stdout",
     "output_type": "stream",
     "text": [
      "For i = 2, j = 1, LHS = -1.0*sin(1.0*theta), and RHS = -sin(theta)\n"
     ]
    },
    {
     "data": {
      "text/latex": [
       "$\\displaystyle \\left[\\begin{matrix}1.0 e^{- 1.0 i \\theta} & 0\\\\0 & 1.0 e^{1.0 i \\theta}\\end{matrix}\\right]$"
      ],
      "text/plain": [
       "Matrix([\n",
       "[1.0*exp(-1.0*I*theta),                    0],\n",
       "[                    0, 1.0*exp(1.0*I*theta)]])"
      ]
     },
     "metadata": {},
     "output_type": "display_data"
    },
    {
     "data": {
      "text/latex": [
       "$\\displaystyle \\cos{\\left(\\theta \\right)}$"
      ],
      "text/plain": [
       "cos(theta)"
      ]
     },
     "metadata": {},
     "output_type": "display_data"
    },
    {
     "name": "stdout",
     "output_type": "stream",
     "text": [
      "For i = 2, j = 2, LHS = 1.0*cos(1.0*theta), and RHS = cos(theta)\n"
     ]
    },
    {
     "data": {
      "text/latex": [
       "$\\displaystyle \\left[\\begin{matrix}0 & 1.0 i\\\\1.0 i & 0\\end{matrix}\\right]$"
      ],
      "text/plain": [
       "Matrix([\n",
       "[    0, 1.0*I],\n",
       "[1.0*I,     0]])"
      ]
     },
     "metadata": {},
     "output_type": "display_data"
    },
    {
     "data": {
      "text/latex": [
       "$\\displaystyle 0$"
      ],
      "text/plain": [
       "0"
      ]
     },
     "metadata": {},
     "output_type": "display_data"
    },
    {
     "name": "stdout",
     "output_type": "stream",
     "text": [
      "For i = 2, j = 3, LHS = 0, and RHS = 0\n"
     ]
    },
    {
     "data": {
      "text/latex": [
       "$\\displaystyle \\left[\\begin{matrix}0 & 1.0 e^{1.0 i \\theta}\\\\- 1.0 e^{- 1.0 i \\theta} & 0\\end{matrix}\\right]$"
      ],
      "text/plain": [
       "Matrix([\n",
       "[                     0, 1.0*exp(1.0*I*theta)],\n",
       "[-1.0*exp(-1.0*I*theta),                    0]])"
      ]
     },
     "metadata": {},
     "output_type": "display_data"
    },
    {
     "data": {
      "text/latex": [
       "$\\displaystyle 0$"
      ],
      "text/plain": [
       "0"
      ]
     },
     "metadata": {},
     "output_type": "display_data"
    },
    {
     "name": "stdout",
     "output_type": "stream",
     "text": [
      "For i = 3, j = 1, LHS = 0, and RHS = 0\n"
     ]
    },
    {
     "data": {
      "text/latex": [
       "$\\displaystyle \\left[\\begin{matrix}0 & - 1.0 i e^{1.0 i \\theta}\\\\- 1.0 i e^{- 1.0 i \\theta} & 0\\end{matrix}\\right]$"
      ],
      "text/plain": [
       "Matrix([\n",
       "[                       0, -1.0*I*exp(1.0*I*theta)],\n",
       "[-1.0*I*exp(-1.0*I*theta),                       0]])"
      ]
     },
     "metadata": {},
     "output_type": "display_data"
    },
    {
     "data": {
      "text/latex": [
       "$\\displaystyle 0$"
      ],
      "text/plain": [
       "0"
      ]
     },
     "metadata": {},
     "output_type": "display_data"
    },
    {
     "name": "stdout",
     "output_type": "stream",
     "text": [
      "For i = 3, j = 2, LHS = 0, and RHS = 0\n"
     ]
    },
    {
     "data": {
      "text/latex": [
       "$\\displaystyle \\left[\\begin{matrix}1.0 & 0\\\\0 & 1.0\\end{matrix}\\right]$"
      ],
      "text/plain": [
       "Matrix([\n",
       "[1.0,   0],\n",
       "[  0, 1.0]])"
      ]
     },
     "metadata": {},
     "output_type": "display_data"
    },
    {
     "data": {
      "text/latex": [
       "$\\displaystyle 1$"
      ],
      "text/plain": [
       "1"
      ]
     },
     "metadata": {},
     "output_type": "display_data"
    },
    {
     "name": "stdout",
     "output_type": "stream",
     "text": [
      "For i = 3, j = 3, LHS = 1.00000000000000, and RHS = 1\n"
     ]
    }
   ],
   "source": [
    "def check_trace(i, j):\n",
    "    lhs = (1/2) * sp.simplify(sp.trace(sigma[i] * U  * sigma[j] * U.H ))\n",
    "    rhs = R[i-1, j-1]\n",
    "    display((sigma[i] * U  * sigma[j] * U.H ))\n",
    "    display(rhs)\n",
    "    if sp.simplify(lhs - rhs) == 0:\n",
    "        print(f\"For i = {i}, j = {j}, LHS = {lhs}, and RHS = {rhs}\")\n",
    "    else:\n",
    "        print(f\"For i = {i}, j = {j}, LHS = {lhs}, and RHS = {rhs}\")\n",
    "\n",
    "# Iterate over all i and j\n",
    "for i in range(1, 4):\n",
    "    for j in range(1, 4):\n",
    "        check_trace(i, j)"
   ]
  },
  {
   "cell_type": "code",
   "execution_count": null,
   "metadata": {},
   "outputs": [],
   "source": []
  }
 ],
 "metadata": {
  "kernelspec": {
   "display_name": "Python 3",
   "language": "python",
   "name": "python3"
  },
  "language_info": {
   "codemirror_mode": {
    "name": "ipython",
    "version": 3
   },
   "file_extension": ".py",
   "mimetype": "text/x-python",
   "name": "python",
   "nbconvert_exporter": "python",
   "pygments_lexer": "ipython3",
   "version": "3.9.13"
  }
 },
 "nbformat": 4,
 "nbformat_minor": 2
}
